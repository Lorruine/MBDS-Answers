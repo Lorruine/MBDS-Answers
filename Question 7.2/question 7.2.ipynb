{
 "cells": [
  {
   "cell_type": "code",
   "execution_count": null,
   "metadata": {},
   "outputs": [],
   "source": [
    "def Ind2Cord(ind,L):\n",
    "    '''\n",
    "    ind: index\n",
    "    L:list of sizes\n",
    "    '''\n",
    "    cordList=[]\n",
    "    count=len(L)\n",
    "    tempInd=ind\n",
    "    while count>2:\n",
    "        xd=tempInd//get_products(L[0:count-1])\n",
    "        tempInd=tempInd-xd*get_products(L[0:count-1])\n",
    "        cordList.append(xd)\n",
    "        count-=1\n",
    "    x1,x2=tempInd%L[0],tempInd//L[0]\n",
    "    cordList.append(x2)\n",
    "    cordList.append(x1)\n",
    "    cordList.reverse()\n",
    "    return cordList\n",
    "\n",
    "def Cord2Ind(cord,L):\n",
    "    '''\n",
    "    cord: list of coordinates\n",
    "    L:list of sizes\n",
    "    '''\n",
    "    ind=0\n",
    "    for i in range(1,len(L)):\n",
    "        ind+=(cord[i]*get_products(L[0:i]))\n",
    "    ind+=cord[0]\n",
    "    return ind\n",
    "    \n",
    "def get_products(L):\n",
    "    '''\n",
    "    L:list of remain index\n",
    "    d: number of remain index\n",
    "    get products of L_1 to L_d-1\n",
    "    '''\n",
    "    i=len(L)-1\n",
    "    product=1\n",
    "    while i >=0:\n",
    "        product*=L[i]\n",
    "        i-=1\n",
    "    return product"
   ]
  },
  {
   "cell_type": "code",
   "execution_count": null,
   "metadata": {},
   "outputs": [],
   "source": [
    "import pandas as pd"
   ]
  },
  {
   "cell_type": "code",
   "execution_count": null,
   "metadata": {},
   "outputs": [],
   "source": [
    "inputCor=pd.read_csv('/Users/wuruoling/Downloads/AY20_MBDS_questions/Question 7/Question 7.2/input_coordinates_7_2.txt',\n",
    "                    sep='\\t').values\n",
    "inputInd=pd.read_csv('/Users/wuruoling/Downloads/AY20_MBDS_questions/Question 7/Question 7.2/input_index_7_2.txt')['index'].values\n",
    "L=[4, 8, 5, 9, 6, 7]\n",
    "outputCor=[]\n",
    "outputInd=[]\n",
    "for i in range(len(inputInd)):\n",
    "    outputCor.append(Ind2Cord(inputInd[i],L))\n",
    "    outputInd.append(Cord2Ind(inputCor[i],L))"
   ]
  },
  {
   "cell_type": "code",
   "execution_count": null,
   "metadata": {},
   "outputs": [],
   "source": [
    "df1 = pd.DataFrame({'index':outputInd})\n",
    "df1.to_csv('/Users/wuruoling/Downloads/AY20_MBDS_questions/Question 7/Question 7.2/output_index_7_2.txt', \n",
    "           index = None)\n",
    "header = []\n",
    "df2 = pd.DataFrame(outputCor)\n",
    "for i in range(len(L)):\n",
    "    header.append('x' + str(i + 1))\n",
    "df2.to_csv('/Users/wuruoling/Downloads/AY20_MBDS_questions/Question 7/Question 7.2/output_coordinates_7_2.txt', header = header, index = None, sep = \"\\t\")\n"
   ]
  }
 ],
 "metadata": {
  "kernelspec": {
   "display_name": "Python 3",
   "language": "python",
   "name": "python3"
  },
  "language_info": {
   "codemirror_mode": {
    "name": "ipython",
    "version": 3
   },
   "file_extension": ".py",
   "mimetype": "text/x-python",
   "name": "python",
   "nbconvert_exporter": "python",
   "pygments_lexer": "ipython3",
   "version": "3.8.3"
  }
 },
 "nbformat": 4,
 "nbformat_minor": 4
}
