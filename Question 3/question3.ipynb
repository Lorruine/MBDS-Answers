{
 "cells": [
  {
   "cell_type": "code",
   "execution_count": null,
   "metadata": {},
   "outputs": [],
   "source": [
    "import numpy as np\n",
    "import torch\n",
    "from torch import nn\n",
    "import torch.nn.functional as F\n",
    "from torch import optim\n",
    "import os\n",
    "import pandas as pd"
   ]
  },
  {
   "cell_type": "code",
   "execution_count": null,
   "metadata": {},
   "outputs": [],
   "source": [
    "#read data\n",
    "def read_data(data_path):\n",
    "    file=pd.read_csv(data_path,sep='\\t')\n",
    "    data=file.values\n",
    "    data=torch.from_numpy(data)\n",
    "    return data.float()"
   ]
  },
  {
   "cell_type": "code",
   "execution_count": null,
   "metadata": {},
   "outputs": [],
   "source": [
    "#use MSE as the loss function\n",
    "MLPmodel=nn.Sequential(nn.Linear(3,4),\n",
    "                      torch.nn.ReLU(),\n",
    "                      nn.Linear(4,4),\n",
    "                      torch.nn.ReLU(),\n",
    "                      nn.Linear(4,1))\n",
    "loss_fn=nn.MSELoss(reduce='none')\n",
    "learning_rate = 0.001\n",
    "optimizer=torch.optim.SGD(MLPmodel.parameters(),lr=learning_rate)\n",
    "def train(x,y,n_epochs):\n",
    "    '''\n",
    "    x:training set\n",
    "    y:training labels\n",
    "    n_epochs:number of epochs\n",
    "    '''\n",
    "    for i in range(n_epochs):\n",
    "        y_pred=MLPmodel(x)\n",
    "        loss=loss_fn(y_pred,y)\n",
    "        print(i,loss)\n",
    "        optimizer.zero_grad()\n",
    "        loss.backward()\n",
    "        optimizer.step()"
   ]
  },
  {
   "cell_type": "code",
   "execution_count": null,
   "metadata": {},
   "outputs": [],
   "source": [
    "x_train=read_data('/Users/wuruoling/Downloads/AY20_MBDS_questions/Question 3/train_data.txt')\n",
    "y_train=read_data('/Users/wuruoling/Downloads/AY20_MBDS_questions/Question 3/train_truth.txt')\n",
    "x_test=read_data('/Users/wuruoling/Downloads/AY20_MBDS_questions/Question 3/test_data.txt')"
   ]
  },
  {
   "cell_type": "code",
   "execution_count": null,
   "metadata": {},
   "outputs": [],
   "source": [
    "train(x_train,y_train,40)\n",
    "y_test=MLPmodel(x_test)"
   ]
  },
  {
   "cell_type": "code",
   "execution_count": null,
   "metadata": {},
   "outputs": [],
   "source": [
    "testY=y_test.detach().numpy()\n",
    "with open('/Users/wuruoling/Downloads/AY20_MBDS_questions/Question 3/test predicted.txt','w') as f:\n",
    "    for i in range(len(testY)):\n",
    "        if i==0:\n",
    "            s='y'+'\\n'\n",
    "            f.write(s)\n",
    "        s=str(testY[i][0])+'\\n'\n",
    "        f.write(s)"
   ]
  }
 ],
 "metadata": {
  "kernelspec": {
   "display_name": "Python 3",
   "language": "python",
   "name": "python3"
  },
  "language_info": {
   "codemirror_mode": {
    "name": "ipython",
    "version": 3
   },
   "file_extension": ".py",
   "mimetype": "text/x-python",
   "name": "python",
   "nbconvert_exporter": "python",
   "pygments_lexer": "ipython3",
   "version": "3.8.3"
  }
 },
 "nbformat": 4,
 "nbformat_minor": 4
}
