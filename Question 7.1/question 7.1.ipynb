{
 "cells": [
  {
   "cell_type": "code",
   "execution_count": null,
   "metadata": {},
   "outputs": [],
   "source": [
    "import pandas as pd\n",
    "import numpy as np"
   ]
  },
  {
   "cell_type": "code",
   "execution_count": null,
   "metadata": {},
   "outputs": [],
   "source": [
    "def readData(fileCord,fileInd):\n",
    "    cord=pd.read_csv(fileCord,sep='\\t')\n",
    "    ind=pd.read_csv(fileInd)\n",
    "    x1=cord['x1'].values\n",
    "    x2=cord['x2'].values\n",
    "    ind=ind['index'].values\n",
    "    return ind,x1,x2"
   ]
  },
  {
   "cell_type": "code",
   "execution_count": null,
   "metadata": {},
   "outputs": [],
   "source": [
    "def Ind2Cord(ind,L1):\n",
    "    x1,x2=ind%L1,ind//L1\n",
    "    return x1,x2\n",
    "def Cord2Ind(x1,x2,L1):\n",
    "    ind=x1+x2*L1\n",
    "    return ind"
   ]
  },
  {
   "cell_type": "code",
   "execution_count": null,
   "metadata": {},
   "outputs": [],
   "source": [
    "fileInd='/Users/wuruoling/Downloads/AY20_MBDS_questions/Question 7/Question 7.1/input_index_7_1.txt'\n",
    "fileCord='/Users/wuruoling/Downloads/AY20_MBDS_questions/Question 7/Question 7.1/input_coordinates_7_1.txt'\n",
    "ind,x1,x2=readData(fileCord,fileInd)"
   ]
  },
  {
   "cell_type": "code",
   "execution_count": null,
   "metadata": {},
   "outputs": [],
   "source": [
    "#convert the coordinates to the index\n",
    "L1,L2=50,57\n",
    "#number of the index\n",
    "num=len(ind)\n",
    "with open('/Users/wuruoling/Downloads/AY20_MBDS_questions/Question 7/Question 7.1/output_index_7_1.txt','w') as f:\n",
    "    for i in range(num):\n",
    "        x_1,x_2=x1[i],x2[i]\n",
    "        index=Cord2Ind(x_1,x_2,L1)\n",
    "        if i==0:\n",
    "            s='index'+'\\n'\n",
    "            f.write(s)\n",
    "        s=str(index)+'\\n'\n",
    "        f.write(s)"
   ]
  },
  {
   "cell_type": "code",
   "execution_count": null,
   "metadata": {},
   "outputs": [],
   "source": [
    "#convert the index to the coordinates\n",
    "with open('/Users/wuruoling/Downloads/AY20_MBDS_questions/Question 7/Question 7.1/output_coordinates_7_1.txt','w') as f:\n",
    "    for i in range(num):\n",
    "        indx=ind[i]\n",
    "        X1,X2=Ind2Cord(indx,L1)\n",
    "        if i==0:\n",
    "            s='x1'+'\\t'+'x2'+'\\n'\n",
    "            f.write(s)\n",
    "        s=str(X1)+'\\t'+str(X2)+'\\n'\n",
    "        f.write(s)"
   ]
  }
 ],
 "metadata": {
  "kernelspec": {
   "display_name": "Python 3",
   "language": "python",
   "name": "python3"
  },
  "language_info": {
   "codemirror_mode": {
    "name": "ipython",
    "version": 3
   },
   "file_extension": ".py",
   "mimetype": "text/x-python",
   "name": "python",
   "nbconvert_exporter": "python",
   "pygments_lexer": "ipython3",
   "version": "3.8.3"
  }
 },
 "nbformat": 4,
 "nbformat_minor": 4
}
