{
 "cells": [
  {
   "cell_type": "code",
   "execution_count": null,
   "metadata": {},
   "outputs": [],
   "source": [
    "import numpy as np"
   ]
  },
  {
   "cell_type": "code",
   "execution_count": null,
   "metadata": {},
   "outputs": [],
   "source": [
    "def dfs(grid,r,c,label):\n",
    "    '''\n",
    "    grid: the given image\n",
    "    r: row index\n",
    "    c: column index\n",
    "    label: mark a commponent\n",
    "    '''\n",
    "    grid[r][c]=grid[r][c]+label\n",
    "    nr,nc=len(grid),len(grid[0])#number of rows and columns\n",
    "    for x,y in [(r-1,c),(r+1,c),(r,c-1),(r,c+1)]:\n",
    "        if 0<=x<nr and 0<=y<nc and grid[x][y]==1:\n",
    "            dfs(grid,x,y,label)\n",
    "\n",
    "def findComponents(grid):\n",
    "    label=1\n",
    "    for i in range(len(grid)):\n",
    "        for j in range(len(grid[0])):\n",
    "            if grid[i][j]==1:\n",
    "                dfs(grid,i,j,label)\n",
    "                label=label+1\n",
    "    for r in range(len(grid)):\n",
    "        for c in range(len(grid[0])):\n",
    "            if grid[r][c]!=0:\n",
    "                grid[r][c]=grid[r][c]-1"
   ]
  },
  {
   "cell_type": "code",
   "execution_count": null,
   "metadata": {},
   "outputs": [],
   "source": [
    "grid=np.loadtxt('/Users/wuruoling/Downloads/AY20_MBDS_questions/Question 4/input_question_4',\n",
    "                dtype=int,\n",
    "                delimiter='\\t')\n",
    "findComponents(grid)\n",
    "np.savetxt('/Users/wuruoling/Downloads/AY20_MBDS_questions/Question 4/output_question_4.txt',\n",
    "           grid,fmt='%d',delimiter='\\t')"
   ]
  }
 ],
 "metadata": {
  "kernelspec": {
   "display_name": "Python 3",
   "language": "python",
   "name": "python3"
  },
  "language_info": {
   "codemirror_mode": {
    "name": "ipython",
    "version": 3
   },
   "file_extension": ".py",
   "mimetype": "text/x-python",
   "name": "python",
   "nbconvert_exporter": "python",
   "pygments_lexer": "ipython3",
   "version": "3.8.3"
  }
 },
 "nbformat": 4,
 "nbformat_minor": 4
}
