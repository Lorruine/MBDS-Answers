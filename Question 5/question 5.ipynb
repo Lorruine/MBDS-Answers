{
 "cells": [
  {
   "cell_type": "code",
   "execution_count": null,
   "metadata": {},
   "outputs": [],
   "source": [
    "def optimizeColor(colors,prohib):\n",
    "    '''\n",
    "    colors: dictionary of colors\n",
    "    prohib: set of the grids cannot be put beats into \n",
    "    '''\n",
    "    num=0\n",
    "    finalBead=''\n",
    "    for c in colors.keys():\n",
    "        if c not in prohib and colors[c]>num:\n",
    "            finalBead=c\n",
    "            num=colors[c]\n",
    "        if finalBead=='':\n",
    "            finalBead=optimizeColor(colors,[ ])\n",
    "    return finalBead"
   ]
  },
  {
   "cell_type": "code",
   "execution_count": null,
   "metadata": {},
   "outputs": [],
   "source": [
    "def putBeads(L,colors):\n",
    "    '''\n",
    "    L: length of the square's edge\n",
    "    colors: dictionary of colors\n",
    "    '''\n",
    "    grid=[]\n",
    "    g=[]\n",
    "    for i in range(L):\n",
    "        g.append(i)\n",
    "    for i in range(L):\n",
    "        grid.append(g.copy())\n",
    "    for i in range(L):\n",
    "        for j in range(L):\n",
    "            neighbors=[]\n",
    "            if i==0 and j==0:\n",
    "                pass\n",
    "            elif i==0 and j!=0:\n",
    "                neighbors.append(grid[0][j-1])\n",
    "            elif i!=0 and j==0:\n",
    "                neighbors.append(grid[i-1][0])\n",
    "            else:\n",
    "                neighbors.append(grid[i][j-1])\n",
    "                neighbors.append(grid[i-1][j])\n",
    "            grid[i][j]=optimizeColor(colors,neighbors)\n",
    "            colors[grid[i][j]]-=1\n",
    "    return grid"
   ]
  },
  {
   "cell_type": "code",
   "execution_count": null,
   "metadata": {},
   "outputs": [],
   "source": [
    "L1,L2=5,64\n",
    "colors_1 = {'R': 12, 'B': 13}\n",
    "colors_2 = {'R': 139, 'B': 1451, 'G': 977, 'W': 1072, 'Y': 457}\n",
    "grid_1=putBeads(L1,colors_1)\n",
    "grid_2=putBeads(L2,colors_2)\n",
    "with open('/Users/wuruoling/Downloads/AY20_MBDS_questions/Question 5/output_question_5_1','w') as f:\n",
    "    for i in range(L1):\n",
    "        s1=''\n",
    "        for j in range(L1):\n",
    "            s1+=grid_1[i][j]\n",
    "            if j!=L1-1:\n",
    "                s1+='\\t'\n",
    "            else:\n",
    "                s1+='\\n'\n",
    "        f.write(s1)\n",
    "with open('/Users/wuruoling/Downloads/AY20_MBDS_questions/Question 5/output_question_5_2','w') as f:\n",
    "    for i in range(L2):\n",
    "        s2=''\n",
    "        for j in range(L2):\n",
    "            s2+=grid_2[i][j]\n",
    "            if j!=L2-1:\n",
    "                s2+='\\t'\n",
    "            else:\n",
    "                s2+='\\n'\n",
    "        f.write(s2)"
   ]
  }
 ],
 "metadata": {
  "kernelspec": {
   "display_name": "Python 3",
   "language": "python",
   "name": "python3"
  },
  "language_info": {
   "codemirror_mode": {
    "name": "ipython",
    "version": 3
   },
   "file_extension": ".py",
   "mimetype": "text/x-python",
   "name": "python",
   "nbconvert_exporter": "python",
   "pygments_lexer": "ipython3",
   "version": "3.8.3"
  }
 },
 "nbformat": 4,
 "nbformat_minor": 4
}
