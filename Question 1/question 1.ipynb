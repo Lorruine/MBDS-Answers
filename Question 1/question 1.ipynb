{
 "cells": [
  {
   "cell_type": "code",
   "execution_count": null,
   "metadata": {},
   "outputs": [],
   "source": [
    "def calculateSum(m,n,desSum):\n",
    "    '''\n",
    "    start from the right bottom\n",
    "    \n",
    "    m: number of rows\n",
    "    n: number of columns\n",
    "    desSum: the desired sum\n",
    "    return: the list of numbers passed\n",
    "    '''\n",
    "    number=m+n-1\n",
    "    maxVal=m\n",
    "    temp=desSum\n",
    "    passList=[]\n",
    "    while maxVal>0:\n",
    "        if number<=0:\n",
    "            break\n",
    "        #up\n",
    "        minSum=maxVal*(maxVal-1)/2\n",
    "        passList.append(maxVal)\n",
    "        temp-=maxVal\n",
    "        number-=1\n",
    "        if temp<minSum:\n",
    "            break\n",
    "        #check whether need to go left\n",
    "        while (number>0) and (temp>(minSum+(number-(maxVal-1))*(maxVal-1))):\n",
    "            passList.append(maxVal)\n",
    "            number-=1\n",
    "            temp-=maxVal\n",
    "        maxVal-=1\n",
    "    return passList"
   ]
  },
  {
   "cell_type": "code",
   "execution_count": null,
   "metadata": {},
   "outputs": [],
   "source": [
    "def getPath(m,n,desSum):\n",
    "    '''\n",
    "    get and reverse the path\n",
    "    \n",
    "    m: number of rows\n",
    "    n: number of columns\n",
    "    desSum: the desired sum\n",
    "    return: the list of right operations\n",
    "    '''\n",
    "    operations=[]\n",
    "    passList=calculateSum(m,n,desSum)\n",
    "    passList.reverse()\n",
    "    for i in range(0,len(passList)-1):\n",
    "        if passList[i]==passList[i+1]:\n",
    "            operations.append('R')\n",
    "        else:\n",
    "            operations.append('D')\n",
    "    return operations"
   ]
  },
  {
   "cell_type": "code",
   "execution_count": null,
   "metadata": {},
   "outputs": [],
   "source": [
    "desires={65:[9, 9], 72:[9, 9],\n",
    "                     90:[9, 9], 110:[9, 9],\n",
    "                     87127231192:[90000, 100000], \n",
    "                     5994891682:[90000, 100000]}\n",
    "with open('/Users/wuruoling/Downloads/AY20_MBDS_questions/Question 1/output_question_1.txt','w') as f:\n",
    "    for k in desires:\n",
    "        desSum,m,n=k,desires[k][0],desires[k][1]\n",
    "        ops=getPath(m,n,desSum)\n",
    "        f.write(str(k)+' '+''.join(ops)+'\\n')\n",
    "        if k==110:\n",
    "            f.write('\\n')"
   ]
  }
 ],
 "metadata": {
  "kernelspec": {
   "display_name": "Python 3",
   "language": "python",
   "name": "python3"
  },
  "language_info": {
   "codemirror_mode": {
    "name": "ipython",
    "version": 3
   },
   "file_extension": ".py",
   "mimetype": "text/x-python",
   "name": "python",
   "nbconvert_exporter": "python",
   "pygments_lexer": "ipython3",
   "version": "3.8.3"
  }
 },
 "nbformat": 4,
 "nbformat_minor": 4
}
