{
 "cells": [
  {
   "cell_type": "code",
   "execution_count": null,
   "metadata": {},
   "outputs": [],
   "source": [
    "import numpy as np\n",
    "import pandas as pd"
   ]
  },
  {
   "cell_type": "code",
   "execution_count": null,
   "metadata": {},
   "outputs": [],
   "source": [
    "def pnPoly(nvert,vertx,verty,textx,testy):\n",
    "    '''\n",
    "    nvert: number of vertices\n",
    "    vertx: x coordinates of vertices\n",
    "    verty: y coordinates of vertices\n",
    "    testx: x coordinate of the test point\n",
    "    testy :y coordinate of the test point\n",
    "    '''\n",
    "    c=0\n",
    "    for i in range(nvert):\n",
    "        if i==0:\n",
    "            j=nvert-1\n",
    "        else:\n",
    "            j=i-1\n",
    "        if ((verty[i]>testy)!=(vertx[j]>testy)) and (testx<(vertx[j]-vertx[i]) * (testy-verty[i]) / (verty[j]-verty[i]) + vertx[i]):\n",
    "            c=1-c\n",
    "    return c"
   ]
  },
  {
   "cell_type": "code",
   "execution_count": null,
   "metadata": {},
   "outputs": [],
   "source": [
    "def getData(pathPoly,pathPoints):\n",
    "    poly=pd.read_csv(pathPoly,sep=' ',header=None,dtype='Int64')\n",
    "    points=pd.read_csv(pathPoints,sep=' ',header=None)\n",
    "    vertx=poly[0].values\n",
    "    verty=poly[1].values\n",
    "    testx=points[0].values\n",
    "    testy=points[1].values\n",
    "    nvert=len(testx)\n",
    "    return nvert,vertx,verty,testx,testy"
   ]
  },
  {
   "cell_type": "code",
   "execution_count": null,
   "metadata": {},
   "outputs": [],
   "source": [
    "pathPoly='/Users/wuruoling/Downloads/AY20_MBDS_questions/Question 6/input_question_6_polygon'\n",
    "pathPoints='/Users/wuruoling/Downloads/AY20_MBDS_questions/Question 6/input_question_6_points'\n",
    "nvert,verx,verty,testX,testY=getData(pathPoly,pathPoints)"
   ]
  },
  {
   "cell_type": "code",
   "execution_count": null,
   "metadata": {},
   "outputs": [],
   "source": [
    "with open('/Users/wuruoling/Downloads/AY20_MBDS_questions/Question 6/output_question_6.txt','w') as f:\n",
    "    for i in range(nvert):\n",
    "        testx=testX[i]\n",
    "        testy=testY[i]\n",
    "        flag=pnPoly(nvert,verx,verty,testx,testy)\n",
    "        if flag==1:\n",
    "            status=str(testx)+' '+str(testy)+' '+'outside'+'\\n'\n",
    "        if flag==0:\n",
    "            status=str(testx)+' '+str(testy)+' '+'inside'+'\\n'\n",
    "        f.writelines(status)"
   ]
  }
 ],
 "metadata": {
  "kernelspec": {
   "display_name": "Python 3",
   "language": "python",
   "name": "python3"
  },
  "language_info": {
   "codemirror_mode": {
    "name": "ipython",
    "version": 3
   },
   "file_extension": ".py",
   "mimetype": "text/x-python",
   "name": "python",
   "nbconvert_exporter": "python",
   "pygments_lexer": "ipython3",
   "version": "3.8.3"
  }
 },
 "nbformat": 4,
 "nbformat_minor": 4
}
